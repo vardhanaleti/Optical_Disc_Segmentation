{
 "cells": [
  {
   "cell_type": "code",
   "execution_count": 3,
   "metadata": {},
   "outputs": [],
   "source": [
    "import os \n",
    "import numpy as np\n",
    "import cv2\n",
    "from matplotlib import pyplot as plt\n",
    "import filecmp"
   ]
  },
  {
   "cell_type": "code",
   "execution_count": 4,
   "metadata": {},
   "outputs": [],
   "source": [
    "#Handling missing files and taking the common files in both the directories"
   ]
  },
  {
   "cell_type": "code",
   "execution_count": 5,
   "metadata": {},
   "outputs": [],
   "source": [
    "#path with all the images\n",
    "def read_images(path):\n",
    "    image_labels = [] \n",
    "    image_names = sorted(os.listdir(path))\n",
    "    for imgs in image_names:     #imgs -> iteration variable -> name of the images\n",
    "        image = cv2.imread(os.path.join(path,imgs))\n",
    "        image_labels.append(image)\n",
    "        \n",
    "    image_labels = np.array(image_labels)\n",
    "    return image_labels"
   ]
  },
  {
   "cell_type": "code",
   "execution_count": 6,
   "metadata": {},
   "outputs": [],
   "source": [
    "def read_common_images(path,image_names):\n",
    "    images =[]\n",
    "    for img in image_names:\n",
    "        image = cv2.imread(os.path.join(path,img))\n",
    "        images.append(image)\n",
    "    images = np.array(images)\n",
    "    return images"
   ]
  },
  {
   "cell_type": "code",
   "execution_count": 7,
   "metadata": {},
   "outputs": [],
   "source": [
    "dir1 = '/home/aleti/Desktop/Optical disc/OD-Labeled-20200810T160226Z-001/OD-Labeled/'\n",
    "dir2 = '/home/aleti/Desktop/Optical disc/OD-ALL/OD-Full-20201230T050531Z-001/OD-Full/'"
   ]
  },
  {
   "cell_type": "code",
   "execution_count": 8,
   "metadata": {},
   "outputs": [],
   "source": [
    "result = filecmp.dircmp(dir1,dir2)"
   ]
  },
  {
   "cell_type": "code",
   "execution_count": 9,
   "metadata": {},
   "outputs": [],
   "source": [
    "image_names = result.common"
   ]
  },
  {
   "cell_type": "code",
   "execution_count": 10,
   "metadata": {},
   "outputs": [],
   "source": [
    "images = read_common_images(dir1,image_names)"
   ]
  },
  {
   "cell_type": "code",
   "execution_count": 11,
   "metadata": {},
   "outputs": [],
   "source": [
    "unlabeled = read_common_images(dir2,image_names)"
   ]
  },
  {
   "cell_type": "code",
   "execution_count": 12,
   "metadata": {},
   "outputs": [],
   "source": [
    "cv2.imshow('img',images[10])\n",
    "cv2.imshow('img2',unlabeled[10])\n",
    "cv2.waitKey(0)\n",
    "cv2.destroyAllWindows()"
   ]
  },
  {
   "cell_type": "markdown",
   "metadata": {},
   "source": []
  },
  {
   "cell_type": "code",
   "execution_count": 13,
   "metadata": {},
   "outputs": [],
   "source": [
    "def extract_border(images):\n",
    "    lower_val = np.array([0,0,5])\n",
    "    upper_val = np.array([0,20,50])   #colour range of the drawn boundary\n",
    "    mask = []\n",
    "    for image in images:\n",
    "        mask.append(cv2.inRange(image,lower_val,upper_val))\n",
    "    mask = np.array(mask)\n",
    "    return mask"
   ]
  },
  {
   "cell_type": "code",
   "execution_count": 14,
   "metadata": {},
   "outputs": [],
   "source": [
    "def canny(images):\n",
    "    imgs = []\n",
    "    for i in images:\n",
    "        imgs.append(cv2.Canny(i,150,800)) #200,600\n",
    "    return np.array(imgs)"
   ]
  },
  {
   "cell_type": "code",
   "execution_count": 15,
   "metadata": {},
   "outputs": [],
   "source": [
    "border_imgs = extract_border(images)\n",
    "canny_imgs = canny(images)"
   ]
  },
  {
   "cell_type": "code",
   "execution_count": 16,
   "metadata": {},
   "outputs": [],
   "source": [
    "def cvt(images):\n",
    "    mat_imgs = []\n",
    "    for image in images:\n",
    "        mat_im = cv2.cvtColor(image, cv2.COLOR_BGR2RGB)\n",
    "        mat_imgs.append(mat_im)\n",
    "    mat_imgs = np.array(mat_imgs)\n",
    "    return mat_imgs"
   ]
  },
  {
   "cell_type": "code",
   "execution_count": 17,
   "metadata": {},
   "outputs": [
    {
     "data": {
      "text/plain": [
       "(316, 576, 720, 3)"
      ]
     },
     "execution_count": 17,
     "metadata": {},
     "output_type": "execute_result"
    }
   ],
   "source": [
    "mat_images = cvt(images)\n",
    "mat_images.shape"
   ]
  },
  {
   "cell_type": "code",
   "execution_count": null,
   "metadata": {},
   "outputs": [],
   "source": [
    "#dilate to fill the gaps in boundaries\n",
    "def dilation(imgs,kernel):\n",
    "    dilated = []\n",
    "    for i in imgs:\n",
    "        dil_img = cv2.dilate(i,kernel,iterations = 1)\n",
    "        dilated.append(dil_img)\n",
    "    return dilated"
   ]
  },
  {
   "cell_type": "code",
   "execution_count": null,
   "metadata": {},
   "outputs": [],
   "source": [
    "#dilating images\n",
    "kernel = np.ones((2,2),np.uint8)\n",
    "dilated_imgs = dilation(border_imgs,kernel)\n",
    "dilated_canny = dilation(canny_imgs,kernel)"
   ]
  },
  {
   "cell_type": "code",
   "execution_count": 20,
   "metadata": {},
   "outputs": [
    {
     "data": {
      "text/plain": [
       "<matplotlib.image.AxesImage at 0x7f2bb45d5f60>"
      ]
     },
     "execution_count": 20,
     "metadata": {},
     "output_type": "execute_result"
    },
    {
     "data": {
      "image/png": "[encoded data removed]",
      "text/plain": [
       "<Figure size 1440x1080 with 2 Axes>"
      ]
     },
     "metadata": {
      "needs_background": "light"
     },
     "output_type": "display_data"
    }
   ],
   "source": [
    "fig, ax = plt.subplots(1,2,figsize = (20,15))\n",
    "ax[0].imshow(canny_imgs[17],cmap = 'gray')\n",
    "ax[1].imshow(dilated_canny[17],cmap = 'gray')"
   ]
  },
  {
   "cell_type": "markdown",
   "metadata": {},
   "source": [
    "## Generating Masks based on contour properties"
   ]
  },
  {
   "cell_type": "code",
   "execution_count": 21,
   "metadata": {},
   "outputs": [],
   "source": [
    "def mask(border_imgs,target):\n",
    "    \n",
    "    mask_images = []\n",
    "    contour_total = []\n",
    "    count = 0\n",
    "    non_mask = []\n",
    "    targ=[]\n",
    "    mask_indices = []\n",
    "    non_mask_indices = []\n",
    "    for itr in range(len(border_imgs)):\n",
    "\n",
    "        \n",
    "        image = border_imgs[itr]\n",
    "        contours, hierarchy = cv2.findContours(image,cv2.RETR_CCOMP,cv2.CHAIN_APPROX_SIMPLE)\n",
    "        mask = np.zeros((image.shape[0],image.shape[1]))\n",
    "        contour = []\n",
    "        count +=1\n",
    "        #print(count)\n",
    "        \n",
    "        for i,cnt in enumerate(contours):\n",
    "            if hierarchy[0][i][2] < 0:\n",
    "                if cv2.contourArea(cnt) > 4500: #area 3000\n",
    "                    contour.append([cnt])\n",
    "                    \n",
    "        contour = np.array(contour)\n",
    "        #print(contour.shape)\n",
    "        if (len(contour.shape) == 5):\n",
    "            #print('yes')\n",
    "            contour = np.reshape(contour,(-1,2))\n",
    "            cv2.fillConvexPoly(mask,contour,1)\n",
    "            mask_images.append(mask)\n",
    "            targ.append(target[itr])\n",
    "            mask_indices.append(itr)\n",
    "        else:\n",
    "            non_mask.append(image)\n",
    "            non_mask_indices.append(itr)\n",
    "    mask_images = np.array(mask_images)\n",
    "    non_mask_images = np.array(non_mask)\n",
    "    target = np.array(targ)\n",
    "        \n",
    "    #can return indices\n",
    "    return mask_images, non_mask_images,target,mask_indices,non_mask_indices"
   ]
  },
  {
   "cell_type": "code",
   "execution_count": 22,
   "metadata": {},
   "outputs": [],
   "source": [
    "mask_imgs,non_mask_imgs,target,m_indices,n_indices = mask(dilated_canny,images)"
   ]
  },
  {
   "cell_type": "code",
   "execution_count": 23,
   "metadata": {},
   "outputs": [
    {
     "name": "stdout",
     "output_type": "stream",
     "text": [
      "(284, 576, 720)\n",
      "(32, 576, 720)\n"
     ]
    }
   ],
   "source": [
    "print(mask_imgs.shape)\n",
    "print(non_mask_imgs.shape)"
   ]
  },
  {
   "cell_type": "code",
   "execution_count": 24,
   "metadata": {},
   "outputs": [
    {
     "name": "stdout",
     "output_type": "stream",
     "text": [
      "284\n",
      "32\n"
     ]
    }
   ],
   "source": [
    "print(len(m_indices))\n",
    "print(len(n_indices))"
   ]
  },
  {
   "cell_type": "code",
   "execution_count": 28,
   "metadata": {},
   "outputs": [],
   "source": [
    "final_imgs = []\n",
    "final_indices = []\n",
    "\n",
    "other_imgs = []\n",
    "other_indices = []"
   ]
  },
  {
   "cell_type": "markdown",
   "metadata": {},
   "source": [
    "### Discarding faulty masks of the ones generated"
   ]
  },
  {
   "cell_type": "code",
   "execution_count": 29,
   "metadata": {},
   "outputs": [],
   "source": [
    "for i in range(len(mask_imgs)):\n",
    "    cv2.imshow('img'+str(i),mask_imgs[i])\n",
    "    key = cv2.waitKey(0)\n",
    "    \n",
    "    if key == ord('q'):\n",
    "        other_imgs.append(mask_imgs[i])\n",
    "        other_indices.append(i)\n",
    "        cv2.destroyAllWindows()\n",
    "        \n",
    "    elif key == ord('k'):\n",
    "        final_imgs.append(mask_imgs[i])\n",
    "        final_indices.append(m_indices[i])\n",
    "        cv2.destroyAllWindows()"
   ]
  },
  {
   "cell_type": "code",
   "execution_count": 34,
   "metadata": {},
   "outputs": [],
   "source": [
    "final_labels = []\n",
    "for i in range(len(final_imgs)):\n",
    "    final_labels.append(unlabeled[final_indices[i]])"
   ]
  },
  {
   "cell_type": "code",
   "execution_count": 38,
   "metadata": {},
   "outputs": [],
   "source": [
    "i = 40\n",
    "cv2.imshow('img', images[final_indices[i]])\n",
    "cv2.imshow('img2',unlabeled[final_indices[i]])\n",
    "cv2.imshow('img3',final_imgs[i])\n",
    "cv2.waitKey(0)\n",
    "cv2.destroyAllWindows()"
   ]
  },
  {
   "cell_type": "code",
   "execution_count": 40,
   "metadata": {},
   "outputs": [],
   "source": [
    "for i in range(len(final_imgs)):\n",
    "    cv2.imwrite('/home/aleti/Desktop/Optical disc/Labeled_Images/image' + str(i+1) + '.jpg',images[final_indices[i]])\n",
    "    cv2.imwrite('/home/aleti/Desktop/Optical disc/Unlabeled_Images/image' + str(i+1) + '.jpg',unlabeled[final_indices[i]])\n",
    "    cv2.imwrite('/home/aleti/Desktop/Optical disc/Masks/label' + str(i+1) + '.jpg',final_imgs[i]*255)"
   ]
  }
 ],
 "metadata": {
  "kernelspec": {
   "display_name": "Python 3",
   "language": "python",
   "name": "python3"
  },
  "language_info": {
   "codemirror_mode": {
    "name": "ipython",
    "version": 3
   },
   "file_extension": ".py",
   "mimetype": "text/x-python",
   "name": "python",
   "nbconvert_exporter": "python",
   "pygments_lexer": "ipython3",
   "version": "3.6.9"
  }
 },
 "nbformat": 4,
 "nbformat_minor": 4
}
